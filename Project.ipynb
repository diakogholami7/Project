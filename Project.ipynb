{
  "nbformat": 4,
  "nbformat_minor": 0,
  "metadata": {
    "colab": {
      "provenance": []
    },
    "kernelspec": {
      "name": "python3",
      "display_name": "Python 3"
    },
    "language_info": {
      "name": "python"
    }
  },
  "cells": [
    {
      "cell_type": "code",
      "execution_count": null,
      "metadata": {
        "colab": {
          "base_uri": "https://localhost:8080/"
        },
        "id": "AQEkNP_3kirm",
        "outputId": "1ddd10e2-2f30-4f7e-f73f-65f9d03106a8"
      },
      "outputs": [
        {
          "output_type": "stream",
          "name": "stdout",
          "text": [
            "Looking in indexes: https://pypi.org/simple, https://us-python.pkg.dev/colab-wheels/public/simple/\n",
            "Requirement already satisfied: psutil in /usr/local/lib/python3.10/dist-packages (5.9.5)\n"
          ]
        }
      ],
      "source": [
        "pip install psutil"
      ]
    },
    {
      "cell_type": "code",
      "source": [
        "import psutil\n",
        "\n",
        "cpu_percent = psutil.cpu_percent()\n",
        "print(\"CPU usage: {}%\".format(cpu_percent))"
      ],
      "metadata": {
        "colab": {
          "base_uri": "https://localhost:8080/"
        },
        "id": "9-PjYlxJkjht",
        "outputId": "58872f98-b65e-4301-f77b-89e0c1e2481d"
      },
      "execution_count": null,
      "outputs": [
        {
          "output_type": "stream",
          "name": "stdout",
          "text": [
            "CPU usage: 75.9%\n"
          ]
        }
      ]
    },
    {
      "cell_type": "code",
      "source": [
        "mem = psutil.virtual_memory()\n",
        "mem_total = mem.total\n",
        "mem_used = mem.used\n",
        "mem_percent = mem.percent\n",
        "\n",
        "print(\"Total memory: {} bytes\".format(mem_total))\n",
        "print(\"Used memory: {} bytes\".format(mem_used))\n",
        "print(\"Memory usage: {}%\".format(mem_percent))"
      ],
      "metadata": {
        "colab": {
          "base_uri": "https://localhost:8080/"
        },
        "id": "HUG_wdvzkk8W",
        "outputId": "87bbbc82-37c6-4685-9e2d-c363609bbe69"
      },
      "execution_count": null,
      "outputs": [
        {
          "output_type": "stream",
          "name": "stdout",
          "text": [
            "Total memory: 13616324608 bytes\n",
            "Used memory: 634953728 bytes\n",
            "Memory usage: 7.0%\n"
          ]
        }
      ]
    },
    {
      "cell_type": "code",
      "source": [
        "disk = psutil.disk_usage('/')\n",
        "disk_total = disk.total\n",
        "disk_used = disk.used\n",
        "disk_percent = disk.percent\n",
        "\n",
        "print(\"Total disk space: {} bytes\".format(disk_total))\n",
        "print(\"Used disk space: {} bytes\".format(disk_used))\n",
        "print(\"Disk usage: {}%\".format(disk_percent))"
      ],
      "metadata": {
        "colab": {
          "base_uri": "https://localhost:8080/"
        },
        "id": "wNqqEexCknIw",
        "outputId": "ea352275-2808-4790-cf7c-58121a05e506"
      },
      "execution_count": null,
      "outputs": [
        {
          "output_type": "stream",
          "name": "stdout",
          "text": [
            "Total disk space: 115658190848 bytes\n",
            "Used disk space: 28455317504 bytes\n",
            "Disk usage: 24.6%\n"
          ]
        }
      ]
    },
    {
      "cell_type": "code",
      "source": [
        "import psutil\n",
        "\n",
        "# Get CPU usage percentage\n",
        "cpu_percent = psutil.cpu_percent()\n",
        "\n",
        "# Get RAM usage information\n",
        "mem = psutil.virtual_memory()\n",
        "mem_total = mem.total\n",
        "mem_used = mem.used\n",
        "mem_percent = mem.percent\n",
        "\n",
        "# Get hard disk usage information\n",
        "disk = psutil.disk_usage('/')\n",
        "disk_total = disk.total\n",
        "disk_used = disk.used\n",
        "disk_percent = disk.percent\n",
        "\n",
        "# Create dictionary to store system resource data\n",
        "system_resources = {\n",
        "    \"cpu\": {\n",
        "        \"usage_percent\": cpu_percent\n",
        "    },\n",
        "    \"memory\": {\n",
        "        \"total\": mem_total,\n",
        "        \"used\": mem_used,\n",
        "        \"usage_percent\": mem_percent\n",
        "    },\n",
        "    \"disk\": {\n",
        "        \"total\": disk_total,\n",
        "        \"used\": disk_used,\n",
        "        \"usage_percent\": disk_percent\n",
        "    }\n",
        "}\n",
        "\n",
        "# Print the dictionary\n",
        "print(system_resources)\n"
      ],
      "metadata": {
        "colab": {
          "base_uri": "https://localhost:8080/"
        },
        "id": "rCaTuIa4ko9E",
        "outputId": "22c9d730-756f-443f-f3bd-73a44afa9089"
      },
      "execution_count": null,
      "outputs": [
        {
          "output_type": "stream",
          "name": "stdout",
          "text": [
            "{'cpu': {'usage_percent': 27.0}, 'memory': {'total': 13616324608, 'used': 679092224, 'usage_percent': 7.3}, 'disk': {'total': 115658190848, 'used': 25136013312, 'usage_percent': 21.7}}\n"
          ]
        }
      ]
    },
    {
      "cell_type": "code",
      "source": [],
      "metadata": {
        "id": "z47Orv4gkxrk"
      },
      "execution_count": null,
      "outputs": []
    }
  ]
}